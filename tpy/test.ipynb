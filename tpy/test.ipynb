{
 "cells": [
  {
   "cell_type": "code",
   "execution_count": null,
   "metadata": {},
   "outputs": [],
   "source": [
    "# test __repr__\n",
    "class item:\n",
    "    def __init__(self, name):\n",
    "        self._name = name\n",
    "    def __repr__(self) -> str:\n",
    "        return '123'\n",
    "i = item(\"test\")\n",
    "print(i)"
   ]
  },
  {
   "cell_type": "code",
   "execution_count": null,
   "metadata": {},
   "outputs": [],
   "source": [
    "# python heap\n",
    "import heapq\n",
    "\n",
    "test_list = [3,2,1,4,5]\n",
    "heap_list = []\n",
    "for it in test_list:\n",
    "    heapq.heappush(heap_list, it)\n",
    "print(heap_list)\n",
    "print([heapq.heappop(heap_list) for _ in range(len(test_list))])\n",
    "\n",
    "# 2\n",
    "\n",
    "heapq.heapify(test_list) # heap sort\n",
    "print(test_list)"
   ]
  },
  {
   "cell_type": "code",
   "execution_count": null,
   "metadata": {},
   "outputs": [],
   "source": [
    "# max value in dict\n",
    "\n",
    "test_dict = \\\n",
    "    {\n",
    "        \"A\":1,\n",
    "        \"B\":3,\n",
    "        \"C\":4,\n",
    "        \"D\":2,\n",
    "        \"E\":5\n",
    "    }\n",
    "print(min(zip(test_dict.values(), test_dict.keys())))\n",
    "print(max(zip(test_dict.values(), test_dict.keys())))\n",
    "\n",
    "# sorted by value\n",
    "\n",
    "print(sorted(zip(test_dict.values(), test_dict.keys())))\n",
    "\n",
    "# sorted by key\n",
    "print(sorted(zip(test_dict.keys(), test_dict.values())))\n"
   ]
  },
  {
   "cell_type": "code",
   "execution_count": null,
   "metadata": {},
   "outputs": [],
   "source": [
    "# De-duplication dict\n",
    "\n",
    "test_list_dict = \\\n",
    "    [\n",
    "        {\n",
    "            'x': \n",
    "            {\n",
    "                \"x\":1,\n",
    "                \"y\":2\n",
    "            },\n",
    "            'y':2\n",
    "        },\n",
    "        {\n",
    "            'x':\n",
    "            {\n",
    "                \"x\":1,\n",
    "                \"y\":2\n",
    "            },\n",
    "            'y':2\n",
    "        },\n",
    "        {\n",
    "            'x':1,\n",
    "            'y':2\n",
    "        }\n",
    "    ]\n",
    "\n",
    "def dedupe(items, key=None):\n",
    "    seen = set()\n",
    "    for item in items:\n",
    "        val = item if key is None else key(item)\n",
    "        if val not in seen:\n",
    "            yield item\n",
    "            seen.add(val)\n",
    "\n",
    "print(list(dedupe(test_list_dict, key = lambda d: (d['x'], d['y']))))"
   ]
  },
  {
   "cell_type": "code",
   "execution_count": null,
   "metadata": {},
   "outputs": [],
   "source": [
    "# test groupby\n",
    "from itertools import groupby\n",
    "test_dict = \\\n",
    "    [\n",
    "        {\n",
    "            \"name\":1,\n",
    "            \"value\":2\n",
    "        },\n",
    "        {\n",
    "            \"name\":1,\n",
    "            \"value\":3\n",
    "        },\n",
    "        {\n",
    "            \"name\":2,\n",
    "            \"value\":2\n",
    "        }\n",
    "    ]\n",
    "for name, items in groupby(test_dict, key=lambda d:d[\"name\"]):\n",
    "    print(name)\n",
    "    for it in items:\n",
    "        print(' ', it)\n"
   ]
  },
  {
   "cell_type": "code",
   "execution_count": null,
   "metadata": {},
   "outputs": [],
   "source": [
    "# string split\n",
    "\n",
    "import re\n",
    "line = 'abc; abc abc, abc,abc;abc'\n",
    "print(re.split(r'[;,\\s]\\s*',line)) # using regular expression to split string\n",
    "\n",
    "# contain match pattern\n",
    "print(re.split(r'([;,\\s]\\s*)',line))\n",
    "\n",
    "# r'(?:[;,\\s]\\s*)' # using bracket but not contain"
   ]
  },
  {
   "cell_type": "code",
   "execution_count": null,
   "metadata": {},
   "outputs": [],
   "source": [
    "# any\n",
    "any([True, False, False, False])"
   ]
  },
  {
   "cell_type": "code",
   "execution_count": null,
   "metadata": {},
   "outputs": [],
   "source": [
    "# regular rule to find sub str\n",
    "rule = re.compile(r'\\d+/\\d+/\\d+')\n",
    "\n",
    "print(rule.findall(\"2021/11/13 2021/11 11/13 2020/11/13\"))\n",
    "\n",
    "rule = re.compile(r'(\\d+)/(\\d+)/(\\d+)')\n",
    "\n",
    "rule.findall(\"2021/11/13 2021/11 11/13 2020/11/13\")"
   ]
  },
  {
   "cell_type": "code",
   "execution_count": null,
   "metadata": {},
   "outputs": [],
   "source": [
    "\n",
    "a = '你好 abc123'\n",
    "print(ascii(a))\n",
    "print(a.encode(encoding='utf-8'))\n",
    "print(a.encode(encoding='utf-16'))\n",
    "print(a.encode(encoding='gbk'))\n",
    "import unicodedata\n",
    "unicodedata.normalize('NFC',a) # unicode 正规化????"
   ]
  },
  {
   "cell_type": "code",
   "execution_count": null,
   "metadata": {},
   "outputs": [],
   "source": [
    "print(format(0.3,'>5.4f'))\n",
    "\n",
    "\n",
    "# bin oct hex\n",
    "\n",
    "x = 16\n",
    "print(bin(x), format(x, 'b'))\n",
    "print(oct(x), format(x, 'o'))\n",
    "print(hex(x), format(x, 'x'))\n",
    "\n",
    "print(int(format(x, 'b'), 2))\n",
    "print(int(format(x, 'o'), 8))\n",
    "print(int(format(x, 'x'), 16))"
   ]
  },
  {
   "cell_type": "code",
   "execution_count": null,
   "metadata": {},
   "outputs": [],
   "source": [
    "# solve big int\n",
    "\n",
    "x = 56132135498351357845613654613548\n",
    "\n",
    "print(x.bit_length()) # calculate at least how many bits to save\n",
    "\n",
    "# convert to byte 16 bytes little or big\n",
    "print(x.to_bytes(16, 'little'))\n",
    "print(x.to_bytes(16, 'big'))\n",
    "\n",
    "byte_x = x.to_bytes(16, 'little')\n",
    "x = int.from_bytes(byte_x, 'little')\n",
    "print(x)"
   ]
  },
  {
   "cell_type": "code",
   "execution_count": null,
   "metadata": {},
   "outputs": [],
   "source": [
    "# complex (复数)\n",
    "a = complex(2, 4)\n",
    "print(type(a), a)\n",
    "a = 2+3j\n",
    "print(type(a), a)\n",
    "print(a.real, a.imag, a.conjugate())\n",
    "\n",
    "import cmath\n",
    "print(cmath.sqrt(-1))"
   ]
  },
  {
   "cell_type": "code",
   "execution_count": null,
   "metadata": {},
   "outputs": [],
   "source": [
    "# solve NAN!!\n",
    "a = float('inf')\n",
    "b = float('-inf')\n",
    "c = float('nan')\n",
    "print(a, b, c)\n",
    "import math\n",
    "print(math.isinf(a), math.isinf(b), math.isnan(c))\n",
    "\n",
    "print(float('nan') == float('nan'), float('nan') < float('nan'), float('nan') > float('nan'))"
   ]
  },
  {
   "cell_type": "code",
   "execution_count": null,
   "metadata": {},
   "outputs": [],
   "source": [
    "# datetime\n",
    "\n",
    "from datetime import timedelta\n",
    "a = timedelta(days=2, hours=1)\n",
    "b = timedelta(seconds=1000)\n",
    "print(a, a+b)\n",
    "print((a+b).seconds, (a+b).total_seconds())\n",
    "\n",
    "from datetime import datetime\n",
    "\n",
    "a = datetime.now() + b\n",
    "b = timedelta(days=500)\n",
    "print(a, a-b)\n",
    "\n",
    "from dateutil.relativedelta import relativedelta\n",
    "# calculate bigger timedelta\n",
    "print(a + relativedelta(months=-20000))\n",
    "\n",
    "import calendar\n",
    "# month has how many day\n",
    "print(calendar.monthrange(datetime.now().year, datetime.now().month))"
   ]
  },
  {
   "cell_type": "code",
   "execution_count": null,
   "metadata": {},
   "outputs": [],
   "source": [
    "# solve time string\n",
    "\n",
    "text = '2021-11-16 11:06:59.123'\n",
    "a = datetime.strptime(text, '%Y-%m-%d %H:%M:%S.%f')\n",
    "print(a)\n",
    "print(a.strftime(\"%Y-%m-%d %H:%M:%S.%f\"))\n",
    "print(a.strftime('%A %B %d, %Y'))\n",
    "\n",
    "import re\n",
    "# more faster\n",
    "def parse_ymd(s):\n",
    "    Y, m, d, H, M, S = re.split(r'[-: ]',s)\n",
    "    return datetime(int(Y), int(m), int(d), int(H), int(M), int(float(S)))\n",
    "print(parse_ymd(text))"
   ]
  },
  {
   "cell_type": "code",
   "execution_count": null,
   "metadata": {},
   "outputs": [],
   "source": [
    "class Node:\n",
    "    def __init__(self, value) -> None:\n",
    "        self._value = value\n",
    "        self._children = []\n",
    "\n",
    "    def __iter__(self):\n",
    "        print('called iter!')\n",
    "        return iter(self._children)\n",
    "\n",
    "    def __repr__(self) -> str:\n",
    "        return f\"Node({self._value})\"\n",
    "\n",
    "    def add_child(self, child):\n",
    "        self._children.append(child)\n",
    "\n",
    "    def dfs(self):\n",
    "        yield self\n",
    "        for c in self:\n",
    "            yield from c.dfs()\n",
    "            '''\n",
    "            for c1 in c.dfs():\n",
    "                yield c1\n",
    "            '''\n",
    "\n",
    "root = Node(0)\n",
    "c1 = Node(1)\n",
    "c2 = Node(2)\n",
    "root.add_child(c1)\n",
    "root.add_child(c2)\n",
    "\n",
    "c1.add_child(Node(3))\n",
    "c2.add_child(Node(4))\n",
    "c2.add_child(Node(5))\n",
    "it = root.dfs()\n",
    "for ch in it:\n",
    "    print(ch)\n"
   ]
  },
  {
   "cell_type": "code",
   "execution_count": null,
   "metadata": {},
   "outputs": [],
   "source": [
    "import sys\n",
    "with open('test.py','r') as f:\n",
    "    for chunk in iter(lambda:f.read(1), '\\n'):\n",
    "        sys.stdout.write(chunk)\n"
   ]
  },
  {
   "cell_type": "code",
   "execution_count": null,
   "metadata": {},
   "outputs": [],
   "source": [
    "import sys\n",
    "import os\n",
    "print(os.getcwd())\n",
    "print(sys.path[0])\n",
    "print(sys.argv[0])\n",
    "# print(__file__)"
   ]
  },
  {
   "cell_type": "code",
   "execution_count": null,
   "metadata": {},
   "outputs": [],
   "source": [
    "import os\n",
    "print(os.name)\n",
    "path = os.path.join('C:\\\\','USERS','69108','DESKTOP')\n",
    "print(path, os.path.exists(path))\n",
    "\n",
    "print(f'basename: {os.path.basename(path)} dirname: {os.path.dirname(path)}')\n",
    "print(f'isdir: {os.path.isdir(path)} isfile: {os.path.isfile(path)}')\n",
    "\n",
    "import re\n",
    "def cal_real_fill(s, fill_length):\n",
    "    tmp = re.findall(\"[^a-zA-Z0-9!@#$%^&*()_+-={}\\\\\\\\|:\\\";'<>\\?,./ ]\",s)\n",
    "    return fill_length - len(tmp)\n",
    "\n",
    "for name in os.listdir(path):\n",
    "    full_name = os.path.join(path, name)\n",
    "    tplt = \"{0:<%d}{1:<%d}\"%(cal_real_fill(full_name, 80), 10)\n",
    "    print(tplt.format(full_name, os.path.isfile(full_name)))\n",
    "\n",
    "# 虽然在ipynb中还是没对齐 但在powershell可以对齐"
   ]
  },
  {
   "cell_type": "code",
   "execution_count": null,
   "metadata": {},
   "outputs": [],
   "source": [
    "illegal_filename = str(int(1123142351341).to_bytes(8,'big'))\n",
    "\n",
    "def bad_filename(filename):\n",
    "    tmp = filename.encode(sys.getfilesystemencoding(), errors='surrogateescape')\n",
    "    return tmp.decode('utf-8')\n",
    "\n",
    "print(repr(illegal_filename))\n",
    "print(bad_filename(illegal_filename))"
   ]
  },
  {
   "cell_type": "code",
   "execution_count": null,
   "metadata": {},
   "outputs": [],
   "source": [
    "class fuck:\n",
    "    def __init__(self) -> None:\n",
    "        \n",
    "        pass\n",
    "\n",
    "    def __repr__(self) -> str:\n",
    "        return type(self).__name__\n",
    "\n",
    "f = fuck()\n",
    "print(type(f).__name__)\n",
    "print(f)"
   ]
  },
  {
   "cell_type": "code",
   "execution_count": null,
   "metadata": {},
   "outputs": [],
   "source": [
    "def test(*a, **b):\n",
    "    print(type(a), a)\n",
    "    print(type(b), b)\n",
    "    return ()\n",
    "\n",
    "test(1,2.0,123,a=1,b=2.0,c='123')"
   ]
  },
  {
   "cell_type": "code",
   "execution_count": null,
   "metadata": {},
   "outputs": [],
   "source": [
    "def add(a:int, b:int) -> int:\n",
    "    return a+b\n",
    "print(add.__annotations__)"
   ]
  },
  {
   "cell_type": "code",
   "execution_count": null,
   "metadata": {},
   "outputs": [],
   "source": [
    "NONE = None\n",
    "zero = 0\n",
    "empty = []\n",
    "empty_str = ''\n",
    "\n",
    "print(not NONE, not zero, not empty, not empty_str)\n",
    "print(NONE is None, zero is None, empty is None, empty_str is None)\n",
    "# use NONE is None instead of not NONE!!!"
   ]
  },
  {
   "cell_type": "code",
   "execution_count": null,
   "metadata": {},
   "outputs": [],
   "source": [
    "import mmap\n",
    "import os\n",
    "with open('tmp', 'w') as f:\n",
    "    f.write('123')\n",
    "    f.seek(9)\n",
    "    f.write('\\x00')\n",
    "\n",
    "def mmap_read(filename, access=mmap.ACCESS_WRITE):\n",
    "    size = os.path.getsize(filename)\n",
    "    fd = os.open(filename,os.O_RDWR)\n",
    "    return mmap.mmap(fd,size, access=access)\n",
    "\n",
    "with mmap_read('tmp') as f:\n",
    "    print(len(f))\n",
    "    print(f[:])\n"
   ]
  },
  {
   "cell_type": "code",
   "execution_count": 59,
   "metadata": {},
   "outputs": [
    {
     "name": "stdout",
     "output_type": "stream",
     "text": [
      "n: 4, x+n: 4\n",
      "n: 4, x+n: 4\n",
      "n: 4, x+n: 4\n",
      "n: 4, x+n: 4\n",
      "n: 4, x+n: 4\n",
      "n: 0, x+n: 0\n",
      "n: 1, x+n: 1\n",
      "n: 2, x+n: 2\n",
      "n: 3, x+n: 3\n",
      "n: 4, x+n: 4\n"
     ]
    }
   ],
   "source": [
    "# lambda\n",
    "failed_test = [lambda x : f'n: {n}, x+n: {x+n}' for n in range(5)]\n",
    "for f in failed_test:\n",
    "    print(f(0))\n",
    "\n",
    "success_test = [lambda x, n=n : f'n: {n}, x+n: {x+n}' for n in range(5)]\n",
    "\n",
    "for f in success_test:\n",
    "    print(f(0))\n",
    "# kwargs value is bound when declaration\n",
    "# other is bound when running"
   ]
  },
  {
   "cell_type": "code",
   "execution_count": 55,
   "metadata": {},
   "outputs": [
    {
     "name": "stdout",
     "output_type": "stream",
     "text": [
      "old func (1, 2, 3) {'a': 1, 'b': 2, 'c': 3}\n",
      "missing fuck keyword argument!!\n",
      "new func (1, 2, 3) {'a': 1, 'b': 2, 'c': 3} 123\n"
     ]
    }
   ],
   "source": [
    "from functools import partial\n",
    "\n",
    "def old_func(*args, **kwargs):\n",
    "    print('old func', args, kwargs)\n",
    "\n",
    "def new_func(*args, fuck, **kwargs):\n",
    "    print('new func', args, kwargs, fuck)\n",
    "\n",
    "old_func(1,2,3,a=1,b=2,c=3)\n",
    "try:\n",
    "    new_func(1,2,3,a=1,b=2,c=3) # failed\n",
    "except TypeError:\n",
    "    print('missing fuck keyword argument!!')\n",
    "partial(new_func, fuck='123')(1,2,3,a=1,b=2,c=3) # success"
   ]
  },
  {
   "cell_type": "code",
   "execution_count": 40,
   "metadata": {},
   "outputs": [
    {
     "name": "stdout",
     "output_type": "stream",
     "text": [
      "[1, 2, 3, 4, 5, 6, 7, 8, 9, 0]\n",
      "send 123\n",
      "send 123\n",
      "send 123.123\n",
      "send {'a': 123}\n",
      "send [1, 2, '3', ['1.2', 3]]\n"
     ]
    }
   ],
   "source": [
    "# yield\n",
    "\n",
    "def flatten(objs):\n",
    "    for o in objs:\n",
    "        if isinstance(o, list):\n",
    "            yield from flatten(o)\n",
    "        else:\n",
    "            yield o\n",
    "\n",
    "a = [1,2,[3,[4,5,6],[7,[8]],9],0]\n",
    "\n",
    "print([_ for _ in flatten(a)])\n",
    "\n",
    "def tyield():\n",
    "    while True:\n",
    "        result = yield\n",
    "        print(f'send {result}')\n",
    "\n",
    "ty = tyield()\n",
    "next(ty)\n",
    "\n",
    "ty.send('123')\n",
    "ty.send(123)\n",
    "ty.send(123.123)\n",
    "ty.send({'a':123})\n",
    "ty.send([1,2,'3',['1.2',3]])\n"
   ]
  }
 ],
 "metadata": {
  "interpreter": {
   "hash": "52aa8eaae51ca27e232f36ffcee44632ec65fee08b0148f1201326c0ab8cc6d4"
  },
  "kernelspec": {
   "display_name": "Python 3.8.3 64-bit (system)",
   "language": "python",
   "name": "python3"
  },
  "language_info": {
   "codemirror_mode": {
    "name": "ipython",
    "version": 3
   },
   "file_extension": ".py",
   "mimetype": "text/x-python",
   "name": "python",
   "nbconvert_exporter": "python",
   "pygments_lexer": "ipython3",
   "version": "3.9.2"
  },
  "orig_nbformat": 4
 },
 "nbformat": 4,
 "nbformat_minor": 2
}
