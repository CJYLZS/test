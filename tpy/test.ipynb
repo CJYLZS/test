{
 "cells": [
  {
   "cell_type": "code",
   "execution_count": 1,
   "metadata": {},
   "outputs": [
    {
     "name": "stdout",
     "output_type": "stream",
     "text": [
      "123\n"
     ]
    }
   ],
   "source": [
    "# test __repr__\n",
    "class item:\n",
    "    def __init__(self, name):\n",
    "        self._name = name\n",
    "    def __repr__(self) -> str:\n",
    "        return '123'\n",
    "i = item(\"test\")\n",
    "print(i)"
   ]
  },
  {
   "cell_type": "code",
   "execution_count": 2,
   "metadata": {},
   "outputs": [
    {
     "name": "stdout",
     "output_type": "stream",
     "text": [
      "[1, 3, 2, 4, 5]\n",
      "[1, 2, 3, 4, 5]\n",
      "[1, 2, 3, 4, 5]\n"
     ]
    }
   ],
   "source": [
    "# python heap\n",
    "import heapq\n",
    "\n",
    "test_list = [3,2,1,4,5]\n",
    "heap_list = []\n",
    "for it in test_list:\n",
    "    heapq.heappush(heap_list, it)\n",
    "print(heap_list)\n",
    "print([heapq.heappop(heap_list) for _ in range(len(test_list))])\n",
    "\n",
    "# 2\n",
    "\n",
    "heapq.heapify(test_list) # heap sort\n",
    "print(test_list)"
   ]
  },
  {
   "cell_type": "code",
   "execution_count": 3,
   "metadata": {},
   "outputs": [
    {
     "name": "stdout",
     "output_type": "stream",
     "text": [
      "(1, 'A')\n",
      "(5, 'E')\n",
      "[(1, 'A'), (2, 'D'), (3, 'B'), (4, 'C'), (5, 'E')]\n",
      "[('A', 1), ('B', 3), ('C', 4), ('D', 2), ('E', 5)]\n"
     ]
    }
   ],
   "source": [
    "# max value in dict\n",
    "\n",
    "test_dict = \\\n",
    "    {\n",
    "        \"A\":1,\n",
    "        \"B\":3,\n",
    "        \"C\":4,\n",
    "        \"D\":2,\n",
    "        \"E\":5\n",
    "    }\n",
    "print(min(zip(test_dict.values(), test_dict.keys())))\n",
    "print(max(zip(test_dict.values(), test_dict.keys())))\n",
    "\n",
    "# sorted by value\n",
    "\n",
    "print(sorted(zip(test_dict.values(), test_dict.keys())))\n",
    "\n",
    "# sorted by key\n",
    "print(sorted(zip(test_dict.keys(), test_dict.values())))\n"
   ]
  },
  {
   "cell_type": "code",
   "execution_count": 1,
   "metadata": {},
   "outputs": [
    {
     "ename": "TypeError",
     "evalue": "unhashable type: 'dict'",
     "output_type": "error",
     "traceback": [
      "\u001b[0;31m---------------------------------------------------------------------------\u001b[0m",
      "\u001b[0;31mTypeError\u001b[0m                                 Traceback (most recent call last)",
      "\u001b[0;32m/tmp/ipykernel_5268/2619362894.py\u001b[0m in \u001b[0;36m<module>\u001b[0;34m\u001b[0m\n\u001b[1;32m     33\u001b[0m             \u001b[0mseen\u001b[0m\u001b[0;34m.\u001b[0m\u001b[0madd\u001b[0m\u001b[0;34m(\u001b[0m\u001b[0mval\u001b[0m\u001b[0;34m)\u001b[0m\u001b[0;34m\u001b[0m\u001b[0;34m\u001b[0m\u001b[0m\n\u001b[1;32m     34\u001b[0m \u001b[0;34m\u001b[0m\u001b[0m\n\u001b[0;32m---> 35\u001b[0;31m \u001b[0mprint\u001b[0m\u001b[0;34m(\u001b[0m\u001b[0mlist\u001b[0m\u001b[0;34m(\u001b[0m\u001b[0mdedupe\u001b[0m\u001b[0;34m(\u001b[0m\u001b[0mtest_list_dict\u001b[0m\u001b[0;34m,\u001b[0m \u001b[0mkey\u001b[0m \u001b[0;34m=\u001b[0m \u001b[0;32mlambda\u001b[0m \u001b[0md\u001b[0m\u001b[0;34m:\u001b[0m \u001b[0;34m(\u001b[0m\u001b[0md\u001b[0m\u001b[0;34m[\u001b[0m\u001b[0;34m'x'\u001b[0m\u001b[0;34m]\u001b[0m\u001b[0;34m,\u001b[0m \u001b[0md\u001b[0m\u001b[0;34m[\u001b[0m\u001b[0;34m'y'\u001b[0m\u001b[0;34m]\u001b[0m\u001b[0;34m)\u001b[0m\u001b[0;34m)\u001b[0m\u001b[0;34m)\u001b[0m\u001b[0;34m)\u001b[0m\u001b[0;34m\u001b[0m\u001b[0;34m\u001b[0m\u001b[0m\n\u001b[0m",
      "\u001b[0;32m/tmp/ipykernel_5268/2619362894.py\u001b[0m in \u001b[0;36mdedupe\u001b[0;34m(items, key)\u001b[0m\n\u001b[1;32m     29\u001b[0m     \u001b[0;32mfor\u001b[0m \u001b[0mitem\u001b[0m \u001b[0;32min\u001b[0m \u001b[0mitems\u001b[0m\u001b[0;34m:\u001b[0m\u001b[0;34m\u001b[0m\u001b[0;34m\u001b[0m\u001b[0m\n\u001b[1;32m     30\u001b[0m         \u001b[0mval\u001b[0m \u001b[0;34m=\u001b[0m \u001b[0mitem\u001b[0m \u001b[0;32mif\u001b[0m \u001b[0mkey\u001b[0m \u001b[0;32mis\u001b[0m \u001b[0;32mNone\u001b[0m \u001b[0;32melse\u001b[0m \u001b[0mkey\u001b[0m\u001b[0;34m(\u001b[0m\u001b[0mitem\u001b[0m\u001b[0;34m)\u001b[0m\u001b[0;34m\u001b[0m\u001b[0;34m\u001b[0m\u001b[0m\n\u001b[0;32m---> 31\u001b[0;31m         \u001b[0;32mif\u001b[0m \u001b[0mval\u001b[0m \u001b[0;32mnot\u001b[0m \u001b[0;32min\u001b[0m \u001b[0mseen\u001b[0m\u001b[0;34m:\u001b[0m\u001b[0;34m\u001b[0m\u001b[0;34m\u001b[0m\u001b[0m\n\u001b[0m\u001b[1;32m     32\u001b[0m             \u001b[0;32myield\u001b[0m \u001b[0mitem\u001b[0m\u001b[0;34m\u001b[0m\u001b[0;34m\u001b[0m\u001b[0m\n\u001b[1;32m     33\u001b[0m             \u001b[0mseen\u001b[0m\u001b[0;34m.\u001b[0m\u001b[0madd\u001b[0m\u001b[0;34m(\u001b[0m\u001b[0mval\u001b[0m\u001b[0;34m)\u001b[0m\u001b[0;34m\u001b[0m\u001b[0;34m\u001b[0m\u001b[0m\n",
      "\u001b[0;31mTypeError\u001b[0m: unhashable type: 'dict'"
     ]
    }
   ],
   "source": [
    "# De-duplication dict\n",
    "\n",
    "test_list_dict = \\\n",
    "    [\n",
    "        {\n",
    "            'x': \n",
    "            {\n",
    "                \"x\":1,\n",
    "                \"y\":2\n",
    "            },\n",
    "            'y':2\n",
    "        },\n",
    "        {\n",
    "            'x':\n",
    "            {\n",
    "                \"x\":1,\n",
    "                \"y\":2\n",
    "            },\n",
    "            'y':2\n",
    "        },\n",
    "        {\n",
    "            'x':1,\n",
    "            'y':2\n",
    "        }\n",
    "    ]\n",
    "\n",
    "def dedupe(items, key=None):\n",
    "    seen = set()\n",
    "    for item in items:\n",
    "        val = item if key is None else key(item)\n",
    "        if val not in seen:\n",
    "            yield item\n",
    "            seen.add(val)\n",
    "\n",
    "print(list(dedupe(test_list_dict, key = lambda d: (d['x'], d['y']))))"
   ]
  },
  {
   "cell_type": "code",
   "execution_count": 5,
   "metadata": {},
   "outputs": [
    {
     "name": "stdout",
     "output_type": "stream",
     "text": [
      "1\n",
      "  {'name': 1, 'value': 2}\n",
      "  {'name': 1, 'value': 3}\n",
      "2\n",
      "  {'name': 2, 'value': 2}\n"
     ]
    }
   ],
   "source": [
    "# test groupby\n",
    "from itertools import groupby\n",
    "test_dict = \\\n",
    "    [\n",
    "        {\n",
    "            \"name\":1,\n",
    "            \"value\":2\n",
    "        },\n",
    "        {\n",
    "            \"name\":1,\n",
    "            \"value\":3\n",
    "        },\n",
    "        {\n",
    "            \"name\":2,\n",
    "            \"value\":2\n",
    "        }\n",
    "    ]\n",
    "for name, items in groupby(test_dict, key=lambda d:d[\"name\"]):\n",
    "    print(name)\n",
    "    for it in items:\n",
    "        print(' ', it)\n"
   ]
  },
  {
   "cell_type": "code",
   "execution_count": 6,
   "metadata": {},
   "outputs": [
    {
     "name": "stdout",
     "output_type": "stream",
     "text": [
      "['abc', 'abc', 'abc', 'abc', 'abc', 'abc']\n",
      "['abc', '; ', 'abc', ' ', 'abc', ', ', 'abc', ',', 'abc', ';', 'abc']\n"
     ]
    }
   ],
   "source": [
    "# string split\n",
    "\n",
    "import re\n",
    "line = 'abc; abc abc, abc,abc;abc'\n",
    "print(re.split(r'[;,\\s]\\s*',line)) # using regular expression to split string\n",
    "\n",
    "# contain match pattern\n",
    "print(re.split(r'([;,\\s]\\s*)',line))\n",
    "\n",
    "# r'(?:[;,\\s]\\s*)' # using bracket but not contain"
   ]
  },
  {
   "cell_type": "code",
   "execution_count": 7,
   "metadata": {},
   "outputs": [
    {
     "data": {
      "text/plain": [
       "True"
      ]
     },
     "execution_count": 7,
     "metadata": {},
     "output_type": "execute_result"
    }
   ],
   "source": [
    "# any\n",
    "any([True, False, False, False])"
   ]
  },
  {
   "cell_type": "code",
   "execution_count": 8,
   "metadata": {},
   "outputs": [
    {
     "name": "stdout",
     "output_type": "stream",
     "text": [
      "['2021/11/13', '2020/11/13']\n"
     ]
    },
    {
     "data": {
      "text/plain": [
       "[('2021', '11', '13'), ('2020', '11', '13')]"
      ]
     },
     "execution_count": 8,
     "metadata": {},
     "output_type": "execute_result"
    }
   ],
   "source": [
    "# regular rule to find sub str\n",
    "rule = re.compile(r'\\d+/\\d+/\\d+')\n",
    "\n",
    "print(rule.findall(\"2021/11/13 2021/11 11/13 2020/11/13\"))\n",
    "\n",
    "rule = re.compile(r'(\\d+)/(\\d+)/(\\d+)')\n",
    "\n",
    "rule.findall(\"2021/11/13 2021/11 11/13 2020/11/13\")"
   ]
  },
  {
   "cell_type": "code",
   "execution_count": 9,
   "metadata": {},
   "outputs": [
    {
     "name": "stdout",
     "output_type": "stream",
     "text": [
      "'\\u4f60\\u597d abc123'\n",
      "b'\\xe4\\xbd\\xa0\\xe5\\xa5\\xbd abc123'\n",
      "b'\\xff\\xfe`O}Y \\x00a\\x00b\\x00c\\x001\\x002\\x003\\x00'\n",
      "b'\\xc4\\xe3\\xba\\xc3 abc123'\n"
     ]
    },
    {
     "data": {
      "text/plain": [
       "'你好 abc123'"
      ]
     },
     "execution_count": 9,
     "metadata": {},
     "output_type": "execute_result"
    }
   ],
   "source": [
    "\n",
    "a = '你好 abc123'\n",
    "print(ascii(a))\n",
    "print(a.encode(encoding='utf-8'))\n",
    "print(a.encode(encoding='utf-16'))\n",
    "print(a.encode(encoding='gbk'))\n",
    "import unicodedata\n",
    "unicodedata.normalize('NFC',a) # unicode 正规化????"
   ]
  },
  {
   "cell_type": "code",
   "execution_count": 10,
   "metadata": {},
   "outputs": [
    {
     "name": "stdout",
     "output_type": "stream",
     "text": [
      "0.3000\n",
      "0b10000 10000\n",
      "0o20 20\n",
      "0x10 10\n",
      "16\n",
      "16\n",
      "16\n"
     ]
    }
   ],
   "source": [
    "print(format(0.3,'>5.4f'))\n",
    "\n",
    "\n",
    "# bin oct hex\n",
    "\n",
    "x = 16\n",
    "print(bin(x), format(x, 'b'))\n",
    "print(oct(x), format(x, 'o'))\n",
    "print(hex(x), format(x, 'x'))\n",
    "\n",
    "print(int(format(x, 'b'), 2))\n",
    "print(int(format(x, 'o'), 8))\n",
    "print(int(format(x, 'x'), 16))"
   ]
  },
  {
   "cell_type": "code",
   "execution_count": 11,
   "metadata": {},
   "outputs": [
    {
     "name": "stdout",
     "output_type": "stream",
     "text": [
      "106\n",
      "b',\\x9e\\xac\\xaa\\xe3\\x19\\x8a)\\xb69\\xb6|\\xc4\\x02\\x00\\x00'\n",
      "b'\\x00\\x00\\x02\\xc4|\\xb69\\xb6)\\x8a\\x19\\xe3\\xaa\\xac\\x9e,'\n",
      "56132135498351357845613654613548\n"
     ]
    }
   ],
   "source": [
    "# solve big int\n",
    "\n",
    "x = 56132135498351357845613654613548\n",
    "\n",
    "print(x.bit_length()) # calculate at least how many bits to save\n",
    "\n",
    "# convert to byte 16 bytes little or big\n",
    "print(x.to_bytes(16, 'little'))\n",
    "print(x.to_bytes(16, 'big'))\n",
    "\n",
    "byte_x = x.to_bytes(16, 'little')\n",
    "x = int.from_bytes(byte_x, 'little')\n",
    "print(x)"
   ]
  },
  {
   "cell_type": "code",
   "execution_count": 12,
   "metadata": {},
   "outputs": [
    {
     "name": "stdout",
     "output_type": "stream",
     "text": [
      "<class 'complex'> (2+4j)\n",
      "<class 'complex'> (2+3j)\n",
      "2.0 3.0 (2-3j)\n",
      "1j\n"
     ]
    }
   ],
   "source": [
    "# complex (复数)\n",
    "a = complex(2, 4)\n",
    "print(type(a), a)\n",
    "a = 2+3j\n",
    "print(type(a), a)\n",
    "print(a.real, a.imag, a.conjugate())\n",
    "\n",
    "import cmath\n",
    "print(cmath.sqrt(-1))"
   ]
  },
  {
   "cell_type": "code",
   "execution_count": 13,
   "metadata": {},
   "outputs": [
    {
     "name": "stdout",
     "output_type": "stream",
     "text": [
      "inf -inf nan\n",
      "True True True\n",
      "False False False\n"
     ]
    }
   ],
   "source": [
    "# solve NAN!!\n",
    "a = float('inf')\n",
    "b = float('-inf')\n",
    "c = float('nan')\n",
    "print(a, b, c)\n",
    "import math\n",
    "print(math.isinf(a), math.isinf(b), math.isnan(c))\n",
    "\n",
    "print(float('nan') == float('nan'), float('nan') < float('nan'), float('nan') > float('nan'))"
   ]
  },
  {
   "cell_type": "code",
   "execution_count": 14,
   "metadata": {},
   "outputs": [
    {
     "name": "stdout",
     "output_type": "stream",
     "text": [
      "2 days, 1:00:00 2 days, 1:16:40\n",
      "4600 177400.0\n",
      "2021-11-29 04:21:08.756751 2020-07-17 04:21:08.756751\n",
      "0355-03-29 04:21:08.756751\n",
      "(0, 30)\n"
     ]
    }
   ],
   "source": [
    "# datetime\n",
    "\n",
    "from datetime import timedelta\n",
    "a = timedelta(days=2, hours=1)\n",
    "b = timedelta(seconds=1000)\n",
    "print(a, a+b)\n",
    "print((a+b).seconds, (a+b).total_seconds())\n",
    "\n",
    "from datetime import datetime\n",
    "\n",
    "a = datetime.now() + b\n",
    "b = timedelta(days=500)\n",
    "print(a, a-b)\n",
    "\n",
    "from dateutil.relativedelta import relativedelta\n",
    "# calculate bigger timedelta\n",
    "print(a + relativedelta(months=-20000))\n",
    "\n",
    "import calendar\n",
    "# month has how many day\n",
    "print(calendar.monthrange(datetime.now().year, datetime.now().month))"
   ]
  },
  {
   "cell_type": "code",
   "execution_count": 15,
   "metadata": {},
   "outputs": [
    {
     "name": "stdout",
     "output_type": "stream",
     "text": [
      "2021-11-16 11:06:59.123000\n",
      "2021-11-16 11:06:59.123000\n",
      "Tuesday November 16, 2021\n",
      "2021-11-16 11:06:59\n"
     ]
    }
   ],
   "source": [
    "# solve time string\n",
    "\n",
    "text = '2021-11-16 11:06:59.123'\n",
    "a = datetime.strptime(text, '%Y-%m-%d %H:%M:%S.%f')\n",
    "print(a)\n",
    "print(a.strftime(\"%Y-%m-%d %H:%M:%S.%f\"))\n",
    "print(a.strftime('%A %B %d, %Y'))\n",
    "\n",
    "import re\n",
    "# more faster\n",
    "def parse_ymd(s):\n",
    "    Y, m, d, H, M, S = re.split(r'[-: ]',s)\n",
    "    return datetime(int(Y), int(m), int(d), int(H), int(M), int(float(S)))\n",
    "print(parse_ymd(text))"
   ]
  },
  {
   "cell_type": "code",
   "execution_count": 16,
   "metadata": {},
   "outputs": [
    {
     "name": "stdout",
     "output_type": "stream",
     "text": [
      "Node(0)\n",
      "called iter!\n",
      "Node(1)\n",
      "called iter!\n",
      "Node(3)\n",
      "called iter!\n",
      "Node(2)\n",
      "called iter!\n",
      "Node(4)\n",
      "called iter!\n",
      "Node(5)\n",
      "called iter!\n"
     ]
    }
   ],
   "source": [
    "class Node:\n",
    "    def __init__(self, value) -> None:\n",
    "        self._value = value\n",
    "        self._children = []\n",
    "\n",
    "    def __iter__(self):\n",
    "        print('called iter!')\n",
    "        return iter(self._children)\n",
    "\n",
    "    def __repr__(self) -> str:\n",
    "        return f\"Node({self._value})\"\n",
    "\n",
    "    def add_child(self, child):\n",
    "        self._children.append(child)\n",
    "\n",
    "    def dfs(self):\n",
    "        yield self\n",
    "        for c in self:\n",
    "            yield from c.dfs()\n",
    "            '''\n",
    "            for c1 in c.dfs():\n",
    "                yield c1\n",
    "            '''\n",
    "\n",
    "root = Node(0)\n",
    "c1 = Node(1)\n",
    "c2 = Node(2)\n",
    "root.add_child(c1)\n",
    "root.add_child(c2)\n",
    "\n",
    "c1.add_child(Node(3))\n",
    "c2.add_child(Node(4))\n",
    "c2.add_child(Node(5))\n",
    "it = root.dfs()\n",
    "for ch in it:\n",
    "    print(ch)\n"
   ]
  },
  {
   "cell_type": "code",
   "execution_count": 17,
   "metadata": {},
   "outputs": [
    {
     "name": "stdout",
     "output_type": "stream",
     "text": [
      "[1, 2, 3, 4, 5, 6, 7, 8, 9, 0]\n"
     ]
    }
   ],
   "source": [
    "def flatten(items):\n",
    "    for item in items:\n",
    "        if isinstance(item, list):\n",
    "            yield from flatten(item)\n",
    "        else:\n",
    "            yield item\n",
    "\n",
    "a = [1,2,[3,[4,5,6],[7,[8]],9],0]\n",
    "\n",
    "print([_ for _ in flatten(a)])"
   ]
  },
  {
   "cell_type": "code",
   "execution_count": 18,
   "metadata": {},
   "outputs": [
    {
     "name": "stdout",
     "output_type": "stream",
     "text": [
      "# class Solution:"
     ]
    }
   ],
   "source": [
    "import sys\n",
    "with open('test.py','r') as f:\n",
    "    for chunk in iter(lambda:f.read(1), '\\n'):\n",
    "        sys.stdout.write(chunk)\n"
   ]
  },
  {
   "cell_type": "code",
   "execution_count": 1,
   "metadata": {},
   "outputs": [
    {
     "name": "stdout",
     "output_type": "stream",
     "text": [
      "/home/ylzs/code/python\n"
     ]
    },
    {
     "ename": "NameError",
     "evalue": "name '__file__' is not defined",
     "output_type": "error",
     "traceback": [
      "\u001b[0;31m---------------------------------------------------------------------------\u001b[0m",
      "\u001b[0;31mNameError\u001b[0m                                 Traceback (most recent call last)",
      "\u001b[0;32m/tmp/ipykernel_26264/4198612093.py\u001b[0m in \u001b[0;36m<module>\u001b[0;34m\u001b[0m\n\u001b[1;32m      2\u001b[0m \u001b[0;32mimport\u001b[0m \u001b[0mos\u001b[0m\u001b[0;34m\u001b[0m\u001b[0;34m\u001b[0m\u001b[0m\n\u001b[1;32m      3\u001b[0m \u001b[0mprint\u001b[0m\u001b[0;34m(\u001b[0m\u001b[0mos\u001b[0m\u001b[0;34m.\u001b[0m\u001b[0mgetcwd\u001b[0m\u001b[0;34m(\u001b[0m\u001b[0;34m)\u001b[0m\u001b[0;34m)\u001b[0m\u001b[0;34m\u001b[0m\u001b[0;34m\u001b[0m\u001b[0m\n\u001b[0;32m----> 4\u001b[0;31m \u001b[0mprint\u001b[0m\u001b[0;34m(\u001b[0m\u001b[0m__file__\u001b[0m\u001b[0;34m)\u001b[0m\u001b[0;34m\u001b[0m\u001b[0;34m\u001b[0m\u001b[0m\n\u001b[0m\u001b[1;32m      5\u001b[0m \u001b[0mprint\u001b[0m\u001b[0;34m(\u001b[0m\u001b[0msys\u001b[0m\u001b[0;34m.\u001b[0m\u001b[0mpath\u001b[0m\u001b[0;34m[\u001b[0m\u001b[0;36m0\u001b[0m\u001b[0;34m]\u001b[0m\u001b[0;34m)\u001b[0m\u001b[0;34m\u001b[0m\u001b[0;34m\u001b[0m\u001b[0m\n\u001b[1;32m      6\u001b[0m \u001b[0mprint\u001b[0m\u001b[0;34m(\u001b[0m\u001b[0msys\u001b[0m\u001b[0;34m.\u001b[0m\u001b[0margv\u001b[0m\u001b[0;34m[\u001b[0m\u001b[0;36m0\u001b[0m\u001b[0;34m]\u001b[0m\u001b[0;34m)\u001b[0m\u001b[0;34m\u001b[0m\u001b[0;34m\u001b[0m\u001b[0m\n",
      "\u001b[0;31mNameError\u001b[0m: name '__file__' is not defined"
     ]
    }
   ],
   "source": [
    "import sys\n",
    "import os\n",
    "print(os.getcwd())\n",
    "print(sys.path[0])\n",
    "print(sys.argv[0])"
   ]
  },
  {
   "cell_type": "code",
   "execution_count": 19,
   "metadata": {},
   "outputs": [
    {
     "name": "stdout",
     "output_type": "stream",
     "text": [
      "posix\n",
      "C:\\/USERS/69108/DESKTOP False\n",
      "basename: DESKTOP dirname: C:\\/USERS/69108\n",
      "isdir: False isfile: False\n"
     ]
    },
    {
     "ename": "FileNotFoundError",
     "evalue": "[Errno 2] No such file or directory: 'C:\\\\/USERS/69108/DESKTOP'",
     "output_type": "error",
     "traceback": [
      "\u001b[0;31m---------------------------------------------------------------------------\u001b[0m",
      "\u001b[0;31mFileNotFoundError\u001b[0m                         Traceback (most recent call last)",
      "\u001b[0;32m/tmp/ipykernel_2367/420350328.py\u001b[0m in \u001b[0;36m<module>\u001b[0;34m\u001b[0m\n\u001b[1;32m     12\u001b[0m     \u001b[0;32mreturn\u001b[0m \u001b[0mfill_length\u001b[0m \u001b[0;34m-\u001b[0m \u001b[0mlen\u001b[0m\u001b[0;34m(\u001b[0m\u001b[0mtmp\u001b[0m\u001b[0;34m)\u001b[0m\u001b[0;34m\u001b[0m\u001b[0;34m\u001b[0m\u001b[0m\n\u001b[1;32m     13\u001b[0m \u001b[0;34m\u001b[0m\u001b[0m\n\u001b[0;32m---> 14\u001b[0;31m \u001b[0;32mfor\u001b[0m \u001b[0mname\u001b[0m \u001b[0;32min\u001b[0m \u001b[0mos\u001b[0m\u001b[0;34m.\u001b[0m\u001b[0mlistdir\u001b[0m\u001b[0;34m(\u001b[0m\u001b[0mpath\u001b[0m\u001b[0;34m)\u001b[0m\u001b[0;34m:\u001b[0m\u001b[0;34m\u001b[0m\u001b[0;34m\u001b[0m\u001b[0m\n\u001b[0m\u001b[1;32m     15\u001b[0m     \u001b[0mfull_name\u001b[0m \u001b[0;34m=\u001b[0m \u001b[0mos\u001b[0m\u001b[0;34m.\u001b[0m\u001b[0mpath\u001b[0m\u001b[0;34m.\u001b[0m\u001b[0mjoin\u001b[0m\u001b[0;34m(\u001b[0m\u001b[0mpath\u001b[0m\u001b[0;34m,\u001b[0m \u001b[0mname\u001b[0m\u001b[0;34m)\u001b[0m\u001b[0;34m\u001b[0m\u001b[0;34m\u001b[0m\u001b[0m\n\u001b[1;32m     16\u001b[0m     \u001b[0mtplt\u001b[0m \u001b[0;34m=\u001b[0m \u001b[0;34m\"{0:<%d}{1:<%d}\"\u001b[0m\u001b[0;34m%\u001b[0m\u001b[0;34m(\u001b[0m\u001b[0mcal_real_fill\u001b[0m\u001b[0;34m(\u001b[0m\u001b[0mfull_name\u001b[0m\u001b[0;34m,\u001b[0m \u001b[0;36m80\u001b[0m\u001b[0;34m)\u001b[0m\u001b[0;34m,\u001b[0m \u001b[0;36m10\u001b[0m\u001b[0;34m)\u001b[0m\u001b[0;34m\u001b[0m\u001b[0;34m\u001b[0m\u001b[0m\n",
      "\u001b[0;31mFileNotFoundError\u001b[0m: [Errno 2] No such file or directory: 'C:\\\\/USERS/69108/DESKTOP'"
     ]
    }
   ],
   "source": [
    "import os\n",
    "print(os.name)\n",
    "path = os.path.join('C:\\\\','USERS','69108','DESKTOP')\n",
    "print(path, os.path.exists(path))\n",
    "\n",
    "print(f'basename: {os.path.basename(path)} dirname: {os.path.dirname(path)}')\n",
    "print(f'isdir: {os.path.isdir(path)} isfile: {os.path.isfile(path)}')\n",
    "\n",
    "import re\n",
    "def cal_real_fill(s, fill_length):\n",
    "    tmp = re.findall(\"[^a-zA-Z0-9!@#$%^&*()_+-={}\\\\\\\\|:\\\";'<>\\?,./ ]\",s)\n",
    "    return fill_length - len(tmp)\n",
    "\n",
    "for name in os.listdir(path):\n",
    "    full_name = os.path.join(path, name)\n",
    "    tplt = \"{0:<%d}{1:<%d}\"%(cal_real_fill(full_name, 80), 10)\n",
    "    print(tplt.format(full_name, os.path.isfile(full_name)))\n",
    "\n",
    "# 虽然在ipynb中还是没对齐 但在powershell可以对齐"
   ]
  },
  {
   "cell_type": "code",
   "execution_count": null,
   "metadata": {},
   "outputs": [
    {
     "name": "stdout",
     "output_type": "stream",
     "text": [
      "\"b'\\\\x00\\\\x00\\\\x01\\\\x05\\\\x80\\\\x809\\\\xed'\"\n",
      "b'\\x00\\x00\\x01\\x05\\x80\\x809\\xed'\n"
     ]
    }
   ],
   "source": [
    "illegal_filename = str(int(1123142351341).to_bytes(8,'big'))\n",
    "\n",
    "def bad_filename(filename):\n",
    "    tmp = filename.encode(sys.getfilesystemencoding(), errors='surrogateescape')\n",
    "    return tmp.decode('utf-8')\n",
    "\n",
    "print(repr(illegal_filename))\n",
    "print(bad_filename(illegal_filename))"
   ]
  },
  {
   "cell_type": "code",
   "execution_count": null,
   "metadata": {},
   "outputs": [
    {
     "name": "stdout",
     "output_type": "stream",
     "text": [
      "fuck\n",
      "fuck\n"
     ]
    }
   ],
   "source": [
    "class fuck:\n",
    "    def __init__(self) -> None:\n",
    "        \n",
    "        pass\n",
    "\n",
    "    def __repr__(self) -> str:\n",
    "        return type(self).__name__\n",
    "\n",
    "f = fuck()\n",
    "print(type(f).__name__)\n",
    "print(f)"
   ]
  },
  {
   "cell_type": "code",
   "execution_count": null,
   "metadata": {},
   "outputs": [
    {
     "name": "stdout",
     "output_type": "stream",
     "text": [
      "<class 'tuple'> (1, 2.0, 123)\n",
      "<class 'dict'> {'a': 1, 'b': 2.0, 'c': '123'}\n",
      "{}\n"
     ]
    }
   ],
   "source": [
    "def test(*a, **b):\n",
    "    print(type(a), a)\n",
    "    print(type(b), b)\n",
    "    return ()\n",
    "\n",
    "test(1,2.0,123,a=1,b=2.0,c='123')"
   ]
  },
  {
   "cell_type": "code",
   "execution_count": null,
   "metadata": {},
   "outputs": [
    {
     "name": "stdout",
     "output_type": "stream",
     "text": [
      "{'a': <class 'int'>, 'b': <class 'int'>, 'return': <class 'int'>}\n"
     ]
    }
   ],
   "source": [
    "def add(a:int, b:int) -> int:\n",
    "    return a+b\n",
    "print(add.__annotations__)"
   ]
  },
  {
   "cell_type": "code",
   "execution_count": null,
   "metadata": {},
   "outputs": [
    {
     "name": "stdout",
     "output_type": "stream",
     "text": [
      "True True True True\n",
      "True False False False\n"
     ]
    }
   ],
   "source": [
    "NONE = None\n",
    "zero = 0\n",
    "empty = []\n",
    "empty_str = ''\n",
    "\n",
    "print(not NONE, not zero, not empty, not empty_str)\n",
    "print(NONE is None, zero is None, empty is None, empty_str is None)\n",
    "# use NONE is None instead of not NONE!!!"
   ]
  },
  {
   "cell_type": "code",
   "execution_count": null,
   "metadata": {},
   "outputs": [],
   "source": []
  }
 ],
 "metadata": {
  "interpreter": {
   "hash": "52aa8eaae51ca27e232f36ffcee44632ec65fee08b0148f1201326c0ab8cc6d4"
  },
  "kernelspec": {
   "display_name": "Python 3.8.3 64-bit (system)",
   "language": "python",
   "name": "python3"
  },
  "language_info": {
   "codemirror_mode": {
    "name": "ipython",
    "version": 3
   },
   "file_extension": ".py",
   "mimetype": "text/x-python",
   "name": "python",
   "nbconvert_exporter": "python",
   "pygments_lexer": "ipython3",
   "version": "3.9.2"
  },
  "orig_nbformat": 4
 },
 "nbformat": 4,
 "nbformat_minor": 2
}
